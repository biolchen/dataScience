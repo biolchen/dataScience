{
 "cells": [
  {
   "cell_type": "markdown",
   "metadata": {},
   "source": [
    "# Gaussian Mixture Models\n"
   ]
  },
  {
   "cell_type": "code",
   "execution_count": 1,
   "metadata": {},
   "outputs": [],
   "source": [
    "import numpy as np\n",
    "import pandas as pd\n",
    "import seaborn as sns\n",
    "import matplotlib.pyplot as plt"
   ]
  },
  {
   "cell_type": "code",
   "execution_count": 2,
   "metadata": {},
   "outputs": [],
   "source": [
    "plt.rcParams[\"figure.figsize\"] = [6,6]\n",
    "sns.set()"
   ]
  },
  {
   "cell_type": "code",
   "execution_count": 3,
   "metadata": {},
   "outputs": [],
   "source": [
    "data = np.array([-0.39, 0.12, 0.94, 1.67, 1.76, 2.44, 3.72, 4.28, 4.92, 5.53,\n",
    "0.06, 0.48, 1.01, 1.68, 1.80, 3.25, 4.12, 4.60, 5.28, 6.22]).reshape(-1, 1)"
   ]
  },
  {
   "cell_type": "code",
   "execution_count": 4,
   "metadata": {},
   "outputs": [
    {
     "data": {
      "text/plain": [
       "array([[-0.39],\n",
       "       [ 0.12],\n",
       "       [ 0.94],\n",
       "       [ 1.67],\n",
       "       [ 1.76],\n",
       "       [ 2.44],\n",
       "       [ 3.72],\n",
       "       [ 4.28],\n",
       "       [ 4.92],\n",
       "       [ 5.53],\n",
       "       [ 0.06],\n",
       "       [ 0.48],\n",
       "       [ 1.01],\n",
       "       [ 1.68],\n",
       "       [ 1.8 ],\n",
       "       [ 3.25],\n",
       "       [ 4.12],\n",
       "       [ 4.6 ],\n",
       "       [ 5.28],\n",
       "       [ 6.22]])"
      ]
     },
     "execution_count": 4,
     "metadata": {},
     "output_type": "execute_result"
    }
   ],
   "source": [
    "data"
   ]
  },
  {
   "cell_type": "code",
   "execution_count": 5,
   "metadata": {},
   "outputs": [
    {
     "data": {
      "image/png": "[encoded data removed]",
      "text/plain": [
       "<Figure size 432x432 with 1 Axes>"
      ]
     },
     "metadata": {},
     "output_type": "display_data"
    }
   ],
   "source": [
    "sns.kdeplot(data.ravel());"
   ]
  },
  {
   "cell_type": "markdown",
   "metadata": {},
   "source": [
    "# Initialize"
   ]
  },
  {
   "cell_type": "code",
   "execution_count": 6,
   "metadata": {},
   "outputs": [],
   "source": [
    "K = 2"
   ]
  },
  {
   "cell_type": "code",
   "execution_count": 7,
   "metadata": {},
   "outputs": [
    {
     "data": {
      "text/plain": [
       "20"
      ]
     },
     "execution_count": 7,
     "metadata": {},
     "output_type": "execute_result"
    }
   ],
   "source": [
    "N = len(data)\n",
    "N"
   ]
  },
  {
   "cell_type": "code",
   "execution_count": 34,
   "metadata": {},
   "outputs": [
    {
     "data": {
      "text/plain": [
       "array([[-0.39],\n",
       "       [ 1.01],\n",
       "       [ 3.72],\n",
       "       [ 4.6 ],\n",
       "       [ 1.8 ],\n",
       "       [ 1.76],\n",
       "       [ 5.53],\n",
       "       [ 2.44],\n",
       "       [ 0.94],\n",
       "       [ 0.48],\n",
       "       [ 4.92],\n",
       "       [ 4.12],\n",
       "       [ 4.28],\n",
       "       [ 3.25],\n",
       "       [ 0.06],\n",
       "       [ 1.68],\n",
       "       [ 0.12],\n",
       "       [ 6.22],\n",
       "       [ 5.28],\n",
       "       [ 1.67]])"
      ]
     },
     "execution_count": 34,
     "metadata": {},
     "output_type": "execute_result"
    }
   ],
   "source": [
    "np.random.permutation(data)"
   ]
  },
  {
   "cell_type": "code",
   "execution_count": 43,
   "metadata": {},
   "outputs": [
    {
     "data": {
      "text/plain": [
       "array([3.25, 4.12])"
      ]
     },
     "execution_count": 43,
     "metadata": {},
     "output_type": "execute_result"
    }
   ],
   "source": [
    "mu = np.random.permutation(data)[:K].ravel()\n",
    "mu"
   ]
  },
  {
   "cell_type": "code",
   "execution_count": 51,
   "metadata": {},
   "outputs": [
    {
     "data": {
      "text/plain": [
       "array([[-0.39],\n",
       "       [ 0.12],\n",
       "       [ 0.94],\n",
       "       [ 1.67],\n",
       "       [ 1.76],\n",
       "       [ 2.44],\n",
       "       [ 3.72],\n",
       "       [ 4.28],\n",
       "       [ 4.92],\n",
       "       [ 5.53],\n",
       "       [ 0.06],\n",
       "       [ 0.48],\n",
       "       [ 1.01],\n",
       "       [ 1.68],\n",
       "       [ 1.8 ],\n",
       "       [ 3.25],\n",
       "       [ 4.12],\n",
       "       [ 4.6 ],\n",
       "       [ 5.28],\n",
       "       [ 6.22]])"
      ]
     },
     "execution_count": 51,
     "metadata": {},
     "output_type": "execute_result"
    }
   ],
   "source": [
    "data"
   ]
  },
  {
   "cell_type": "code",
   "execution_count": 57,
   "metadata": {},
   "outputs": [
    {
     "data": {
      "text/plain": [
       "[0.5, 0.5]"
      ]
     },
     "execution_count": 57,
     "metadata": {},
     "output_type": "execute_result"
    }
   ],
   "source": []
  },
  {
   "cell_type": "code",
   "execution_count": 9,
   "metadata": {},
   "outputs": [
    {
     "data": {
      "text/plain": [
       "array([3.96777475, 3.96777475])"
      ]
     },
     "execution_count": 9,
     "metadata": {},
     "output_type": "execute_result"
    }
   ],
   "source": [
    "sigma = np.array([np.var(data)] * K)\n",
    "sigma"
   ]
  },
  {
   "cell_type": "code",
   "execution_count": 10,
   "metadata": {},
   "outputs": [
    {
     "data": {
      "text/plain": [
       "array([0.5, 0.5])"
      ]
     },
     "execution_count": 10,
     "metadata": {},
     "output_type": "execute_result"
    }
   ],
   "source": [
    "pi = np.array([1/K] * K)\n",
    "pi"
   ]
  },
  {
   "cell_type": "markdown",
   "metadata": {},
   "source": [
    "# Normal distribution density function"
   ]
  },
  {
   "cell_type": "code",
   "execution_count": 11,
   "metadata": {},
   "outputs": [],
   "source": [
    "def univariate_normal(x, mean, variance):\n",
    "    \"\"\"pdf of the univariate normal distribution.\"\"\"\n",
    "    return ((1. / np.sqrt(2 * np.pi * variance)) * \n",
    "            np.exp(-(x - mean)**2 / (2 * variance)))"
   ]
  },
  {
   "cell_type": "code",
   "execution_count": 12,
   "metadata": {},
   "outputs": [],
   "source": [
    "def multivariate_normal(x, d, mean, covariance):\n",
    "    \"\"\"pdf of the multivariate normal distribution.\"\"\"\n",
    "    x_m = x - mean\n",
    "    return (1. / (np.sqrt((2 * np.pi)**d * np.linalg.det(covariance))) * \n",
    "            np.exp(-(np.linalg.solve(covariance, x_m).T.dot(x_m)) / 2))"
   ]
  },
  {
   "cell_type": "markdown",
   "metadata": {},
   "source": [
    "# Visualize"
   ]
  },
  {
   "cell_type": "code",
   "execution_count": 13,
   "metadata": {},
   "outputs": [],
   "source": [
    "def plot_gmm(data, mu, sigma, K=2):\n",
    "    max_sigma = sigma.max()\n",
    "    x = np.linspace(data.min()-1*max_sigma, data.max()+1*max_sigma, num=100)\n",
    "    plt.figure(figsize=(7, 5))\n",
    "    sns.distplot(data, kde=False, rug=True, bins=20, norm_hist=True,)\n",
    "    # plt.hist(data, bins=20, density=True)\n",
    "    for i in range(K):\n",
    "        plt.plot(x, univariate_normal(x, mean=mu[i], variance=sigma[i]), \n",
    "            label=\"$\\mathcal{N}$\" + \"({mu}, {sigma})\".format(mu=str(mu[i].round(2)), sigma=str(sigma[i].round(2))))\n",
    "    plt.xlabel('$x$', fontsize=13)\n",
    "    plt.ylabel('Probability Density: $p(x)$', fontsize=13)\n",
    "    plt.title('Univariate Normal Distributions')\n",
    "    plt.legend(loc=1)\n",
    "    plt.show()\n"
   ]
  },
  {
   "cell_type": "code",
   "execution_count": 14,
   "metadata": {},
   "outputs": [
    {
     "data": {
      "image/png": "[encoded data removed]",
      "text/plain": [
       "<Figure size 504x360 with 1 Axes>"
      ]
     },
     "metadata": {},
     "output_type": "display_data"
    }
   ],
   "source": [
    "plot_gmm(data, mu, sigma, K)"
   ]
  },
  {
   "cell_type": "code",
   "execution_count": 15,
   "metadata": {},
   "outputs": [
    {
     "data": {
      "text/plain": [
       "array([[0., 0.],\n",
       "       [0., 0.],\n",
       "       [0., 0.],\n",
       "       [0., 0.],\n",
       "       [0., 0.],\n",
       "       [0., 0.],\n",
       "       [0., 0.],\n",
       "       [0., 0.],\n",
       "       [0., 0.],\n",
       "       [0., 0.],\n",
       "       [0., 0.],\n",
       "       [0., 0.],\n",
       "       [0., 0.],\n",
       "       [0., 0.],\n",
       "       [0., 0.],\n",
       "       [0., 0.],\n",
       "       [0., 0.],\n",
       "       [0., 0.],\n",
       "       [0., 0.],\n",
       "       [0., 0.]])"
      ]
     },
     "execution_count": 15,
     "metadata": {},
     "output_type": "execute_result"
    }
   ],
   "source": [
    "prob = np.zeros((data.shape[0], 2))\n",
    "prob"
   ]
  },
  {
   "cell_type": "markdown",
   "metadata": {},
   "source": [
    "# Expectation"
   ]
  },
  {
   "cell_type": "code",
   "execution_count": 63,
   "metadata": {},
   "outputs": [],
   "source": [
    "prob[:, 0] = univariate_normal(data, mean=mu[0], variance=sigma[0]).ravel()\n",
    "prob[:, 1] = univariate_normal(data, mean=mu[1], variance=sigma[1]).ravel()"
   ]
  },
  {
   "cell_type": "code",
   "execution_count": 64,
   "metadata": {},
   "outputs": [],
   "source": [
    "prob = univariate_normal(data, mean=mu, variance=sigma)"
   ]
  },
  {
   "cell_type": "code",
   "execution_count": 65,
   "metadata": {},
   "outputs": [
    {
     "data": {
      "text/plain": [
       "array([[0.03771519, 0.01543368],\n",
       "       [0.05827397, 0.02666817],\n",
       "       [0.10223604, 0.05600258],\n",
       "       [0.14622253, 0.09400121],\n",
       "       [0.15140338, 0.09927161],\n",
       "       [0.18438675, 0.14033728],\n",
       "       [0.19478128, 0.19628184],\n",
       "       [0.17521687, 0.19963447],\n",
       "       [0.14093097, 0.18476122],\n",
       "       [0.10402555, 0.15589507],\n",
       "       [0.05555484, 0.02509151],\n",
       "       [0.07615813, 0.03771519],\n",
       "       [0.10642283, 0.05919767],\n",
       "       [0.14680411, 0.09458225],\n",
       "       [0.15366379, 0.10164128],\n",
       "       [0.20027953, 0.18205942],\n",
       "       [0.18205942, 0.20027953],\n",
       "       [0.15918249, 0.19454824],\n",
       "       [0.11915414, 0.16904213],\n",
       "       [0.06590052, 0.11489135]])"
      ]
     },
     "execution_count": 65,
     "metadata": {},
     "output_type": "execute_result"
    }
   ],
   "source": [
    "prob"
   ]
  },
  {
   "cell_type": "code",
   "execution_count": 19,
   "metadata": {},
   "outputs": [
    {
     "data": {
      "text/plain": [
       "array([0.5, 0.5])"
      ]
     },
     "execution_count": 19,
     "metadata": {},
     "output_type": "execute_result"
    }
   ],
   "source": [
    "pi"
   ]
  },
  {
   "cell_type": "code",
   "execution_count": 70,
   "metadata": {},
   "outputs": [
    {
     "data": {
      "text/plain": [
       "array([[0.01885759, 0.00771684],\n",
       "       [0.02913699, 0.01333408],\n",
       "       [0.05111802, 0.02800129],\n",
       "       [0.07311127, 0.04700061],\n",
       "       [0.07570169, 0.04963581],\n",
       "       [0.09219337, 0.07016864],\n",
       "       [0.09739064, 0.09814092],\n",
       "       [0.08760844, 0.09981724],\n",
       "       [0.07046548, 0.09238061],\n",
       "       [0.05201277, 0.07794754],\n",
       "       [0.02777742, 0.01254576],\n",
       "       [0.03807907, 0.01885759],\n",
       "       [0.05321141, 0.02959884],\n",
       "       [0.07340206, 0.04729113],\n",
       "       [0.0768319 , 0.05082064],\n",
       "       [0.10013976, 0.09102971],\n",
       "       [0.09102971, 0.10013976],\n",
       "       [0.07959125, 0.09727412],\n",
       "       [0.05957707, 0.08452106],\n",
       "       [0.03295026, 0.05744568]])"
      ]
     },
     "execution_count": 70,
     "metadata": {},
     "output_type": "execute_result"
    }
   ],
   "source": [
    "a = prob * pi\n",
    "a"
   ]
  },
  {
   "cell_type": "code",
   "execution_count": 71,
   "metadata": {},
   "outputs": [
    {
     "data": {
      "text/plain": [
       "array([[0.02657443],\n",
       "       [0.04247107],\n",
       "       [0.07911931],\n",
       "       [0.12011187],\n",
       "       [0.1253375 ],\n",
       "       [0.16236202],\n",
       "       [0.19553156],\n",
       "       [0.18742567],\n",
       "       [0.1628461 ],\n",
       "       [0.12996031],\n",
       "       [0.04032317],\n",
       "       [0.05693666],\n",
       "       [0.08281025],\n",
       "       [0.12069318],\n",
       "       [0.12765253],\n",
       "       [0.19116947],\n",
       "       [0.19116947],\n",
       "       [0.17686536],\n",
       "       [0.14409813],\n",
       "       [0.09039594]])"
      ]
     },
     "execution_count": 71,
     "metadata": {},
     "output_type": "execute_result"
    }
   ],
   "source": [
    "b = np.sum(prob * pi, axis=1, keepdims=True)\n",
    "b"
   ]
  },
  {
   "cell_type": "code",
   "execution_count": 72,
   "metadata": {},
   "outputs": [
    {
     "data": {
      "text/plain": [
       "array([[0.70961417, 0.29038583],\n",
       "       [0.68604316, 0.31395684],\n",
       "       [0.64608779, 0.35391221],\n",
       "       [0.60869308, 0.39130692],\n",
       "       [0.60398278, 0.39601722],\n",
       "       [0.567826  , 0.432174  ],\n",
       "       [0.49808143, 0.50191857],\n",
       "       [0.46743029, 0.53256971],\n",
       "       [0.43271215, 0.56728785],\n",
       "       [0.40022045, 0.59977955],\n",
       "       [0.68886984, 0.31113016],\n",
       "       [0.66879699, 0.33120301],\n",
       "       [0.64257037, 0.35742963],\n",
       "       [0.60817069, 0.39182931],\n",
       "       [0.60188304, 0.39811696],\n",
       "       [0.52382717, 0.47617283],\n",
       "       [0.47617283, 0.52382717],\n",
       "       [0.45001036, 0.54998964],\n",
       "       [0.41344789, 0.58655211],\n",
       "       [0.36451043, 0.63548957]])"
      ]
     },
     "execution_count": 72,
     "metadata": {},
     "output_type": "execute_result"
    }
   ],
   "source": [
    "responsibility = a / b\n",
    "responsibility"
   ]
  },
  {
   "cell_type": "markdown",
   "metadata": {},
   "source": [
    "# Maximization"
   ]
  },
  {
   "cell_type": "markdown",
   "metadata": {},
   "source": [
    "### Update mu"
   ]
  },
  {
   "cell_type": "code",
   "execution_count": 73,
   "metadata": {},
   "outputs": [
    {
     "data": {
      "text/plain": [
       "array([25.37459301, 28.11540699])"
      ]
     },
     "execution_count": 73,
     "metadata": {},
     "output_type": "execute_result"
    }
   ],
   "source": [
    "np.sum(responsibility * data, axis=0)"
   ]
  },
  {
   "cell_type": "code",
   "execution_count": 74,
   "metadata": {},
   "outputs": [
    {
     "data": {
      "text/plain": [
       "array([11.05895091,  8.94104909])"
      ]
     },
     "execution_count": 74,
     "metadata": {},
     "output_type": "execute_result"
    }
   ],
   "source": [
    "np.sum(responsibility, axis=0)"
   ]
  },
  {
   "cell_type": "code",
   "execution_count": 75,
   "metadata": {},
   "outputs": [
    {
     "data": {
      "text/plain": [
       "array([2.29448464, 3.14453111])"
      ]
     },
     "execution_count": 75,
     "metadata": {},
     "output_type": "execute_result"
    }
   ],
   "source": [
    "mu_new = np.sum(responsibility * data, axis=0) / np.sum(responsibility, axis=0)\n",
    "mu_new"
   ]
  },
  {
   "cell_type": "markdown",
   "metadata": {},
   "source": [
    "### Update sigma"
   ]
  },
  {
   "cell_type": "code",
   "execution_count": 76,
   "metadata": {},
   "outputs": [
    {
     "data": {
      "text/plain": [
       "(array([[-0.39],\n",
       "        [ 0.12],\n",
       "        [ 0.94],\n",
       "        [ 1.67],\n",
       "        [ 1.76],\n",
       "        [ 2.44],\n",
       "        [ 3.72],\n",
       "        [ 4.28],\n",
       "        [ 4.92],\n",
       "        [ 5.53],\n",
       "        [ 0.06],\n",
       "        [ 0.48],\n",
       "        [ 1.01],\n",
       "        [ 1.68],\n",
       "        [ 1.8 ],\n",
       "        [ 3.25],\n",
       "        [ 4.12],\n",
       "        [ 4.6 ],\n",
       "        [ 5.28],\n",
       "        [ 6.22]]), array([3.25, 4.12]))"
      ]
     },
     "execution_count": 76,
     "metadata": {},
     "output_type": "execute_result"
    }
   ],
   "source": [
    "data, mu"
   ]
  },
  {
   "cell_type": "code",
   "execution_count": 77,
   "metadata": {},
   "outputs": [
    {
     "data": {
      "text/plain": [
       "array([[-3.64, -4.51],\n",
       "       [-3.13, -4.  ],\n",
       "       [-2.31, -3.18],\n",
       "       [-1.58, -2.45],\n",
       "       [-1.49, -2.36],\n",
       "       [-0.81, -1.68],\n",
       "       [ 0.47, -0.4 ],\n",
       "       [ 1.03,  0.16],\n",
       "       [ 1.67,  0.8 ],\n",
       "       [ 2.28,  1.41],\n",
       "       [-3.19, -4.06],\n",
       "       [-2.77, -3.64],\n",
       "       [-2.24, -3.11],\n",
       "       [-1.57, -2.44],\n",
       "       [-1.45, -2.32],\n",
       "       [ 0.  , -0.87],\n",
       "       [ 0.87,  0.  ],\n",
       "       [ 1.35,  0.48],\n",
       "       [ 2.03,  1.16],\n",
       "       [ 2.97,  2.1 ]])"
      ]
     },
     "execution_count": 77,
     "metadata": {},
     "output_type": "execute_result"
    }
   ],
   "source": [
    "(data-mu)"
   ]
  },
  {
   "cell_type": "code",
   "execution_count": 78,
   "metadata": {},
   "outputs": [
    {
     "data": {
      "text/plain": [
       "array([3.69203577, 3.90928084])"
      ]
     },
     "execution_count": 78,
     "metadata": {},
     "output_type": "execute_result"
    }
   ],
   "source": [
    "sigma_new = np.sum((responsibility * (data-mu_new)**2), axis=0)/np.sum(responsibility, axis=0)\n",
    "sigma_new"
   ]
  },
  {
   "cell_type": "markdown",
   "metadata": {},
   "source": [
    "### Update pi"
   ]
  },
  {
   "cell_type": "code",
   "execution_count": 79,
   "metadata": {},
   "outputs": [
    {
     "data": {
      "text/plain": [
       "array([0.55294755, 0.44705245])"
      ]
     },
     "execution_count": 79,
     "metadata": {},
     "output_type": "execute_result"
    }
   ],
   "source": [
    "pi_new = np.sum(responsibility, axis=0)/N\n",
    "pi_new"
   ]
  },
  {
   "cell_type": "markdown",
   "metadata": {},
   "source": [
    "### Calculate log-likelihood"
   ]
  },
  {
   "cell_type": "code",
   "execution_count": 80,
   "metadata": {},
   "outputs": [
    {
     "data": {
      "text/plain": [
       "-44.622590513369815"
      ]
     },
     "execution_count": 80,
     "metadata": {},
     "output_type": "execute_result"
    }
   ],
   "source": [
    "# Initial log-likelihood\n",
    "prob = univariate_normal(data, mean=mu, variance=sigma)\n",
    "np.sum(np.log(np.sum(pi*prob, axis=1)))\n",
    "# np.log(responsibility)"
   ]
  },
  {
   "cell_type": "code",
   "execution_count": 81,
   "metadata": {},
   "outputs": [
    {
     "data": {
      "text/plain": [
       "-42.14944216062588"
      ]
     },
     "execution_count": 81,
     "metadata": {},
     "output_type": "execute_result"
    }
   ],
   "source": [
    "# log-likelihood after iteration 1\n",
    "prob = univariate_normal(data, mean=mu_new, variance=sigma_new)\n",
    "np.sum(np.log(np.sum(pi_new*prob, axis=1)))"
   ]
  },
  {
   "cell_type": "markdown",
   "metadata": {},
   "source": [
    "# Put together"
   ]
  },
  {
   "cell_type": "code",
   "execution_count": 106,
   "metadata": {},
   "outputs": [
    {
     "data": {
      "text/plain": [
       "array([[-0.39],\n",
       "       [ 0.12],\n",
       "       [ 0.94],\n",
       "       [ 1.67],\n",
       "       [ 1.76],\n",
       "       [ 2.44],\n",
       "       [ 3.72],\n",
       "       [ 4.28],\n",
       "       [ 4.92],\n",
       "       [ 5.53],\n",
       "       [ 0.06],\n",
       "       [ 0.48],\n",
       "       [ 1.01],\n",
       "       [ 1.68],\n",
       "       [ 1.8 ],\n",
       "       [ 3.25],\n",
       "       [ 4.12],\n",
       "       [ 4.6 ],\n",
       "       [ 5.28],\n",
       "       [ 6.22]])"
      ]
     },
     "execution_count": 106,
     "metadata": {},
     "output_type": "execute_result"
    }
   ],
   "source": [
    "data = np.array([-0.39, 0.12, 0.94, 1.67, 1.76, 2.44, 3.72, 4.28, 4.92, 5.53,\n",
    "0.06, 0.48, 1.01, 1.68, 1.80, 3.25, 4.12, 4.60, 5.28, 6.22]).reshape(-1, 1)\n",
    "data"
   ]
  },
  {
   "cell_type": "code",
   "execution_count": 92,
   "metadata": {},
   "outputs": [
    {
     "name": "stdout",
     "output_type": "stream",
     "text": [
      "\n",
      "mu: [5.53 5.28]\n",
      "sigma: [3.96777475 3.96777475]\n",
      "pi: [0.5 0.5]\n",
      "\n",
      "\n",
      "\n",
      "    mu_new: [2.80999519 2.56034684]\n",
      "    sigma_new: [3.99361417 3.91750719]\n",
      "    pi_new: [0.4572558 0.5427442]\n",
      "    \n",
      "    \n"
     ]
    },
    {
     "data": {
      "image/png": "[encoded data removed]",
      "text/plain": [
       "<Figure size 504x360 with 1 Axes>"
      ]
     },
     "metadata": {},
     "output_type": "display_data"
    },
    {
     "name": "stdout",
     "output_type": "stream",
     "text": [
      "\n",
      "    mu_new: [2.81185191 2.55877856]\n",
      "    sigma_new: [4.00815602 3.90446679]\n",
      "    pi_new: [0.45726441 0.54273559]\n",
      "    \n",
      "    \n"
     ]
    },
    {
     "data": {
      "image/png": "[encoded data removed]",
      "text/plain": [
       "<Figure size 504x360 with 1 Axes>"
      ]
     },
     "metadata": {},
     "output_type": "display_data"
    },
    {
     "name": "stdout",
     "output_type": "stream",
     "text": [
      "\n",
      "    mu_new: [2.81427204 2.55673313]\n",
      "    sigma_new: [4.01351104 3.89890945]\n",
      "    pi_new: [0.45727798 0.54272202]\n",
      "    \n",
      "    \n"
     ]
    },
    {
     "data": {
      "image/png": "[encoded data removed]",
      "text/plain": [
       "<Figure size 504x360 with 1 Axes>"
      ]
     },
     "metadata": {},
     "output_type": "display_data"
    }
   ],
   "source": [
    "# Initialize\n",
    "iteration=0\n",
    "\n",
    "K = 2\n",
    "N = len(data)\n",
    "mu = np.random.permutation(data)[:K].ravel()\n",
    "sigma = np.array([np.var(data)] * K)\n",
    "pi = np.array([1/K] * K)\n",
    "\n",
    "#plot_gmm(data, mu, sigma, K)\n",
    "\n",
    "\n",
    "print(\"\"\"\n",
    "mu: {}\n",
    "sigma: {}\n",
    "pi: {}\n",
    "\n",
    "\"\"\".format(\n",
    "    mu,sigma,pi))\n",
    "\n",
    "# Log likelihood\n",
    "prob = univariate_normal(data, mean=mu, variance=sigma)\n",
    "loglik = np.sum(np.log(np.sum(pi*prob, axis=1)))\n",
    "    \n",
    "loglik_all = []\n",
    "loglik_all.append(loglik)\n",
    "\n",
    "while iteration < 100:\n",
    "    # Expectation\n",
    "    prob = univariate_normal(data, mean=mu, variance=sigma)\n",
    "    responsibility = (prob * pi) / np.sum(prob * pi, axis=1, keepdims=True)\n",
    "    \n",
    "\n",
    "    # Maximization\n",
    "    mu_new = np.sum(responsibility * data, axis=0) / np.sum(responsibility, axis=0)\n",
    "    sigma_new = np.sum((responsibility * (data-mu_new)**2), axis=0)/np.sum(responsibility, axis=0)\n",
    "    pi_new = np.sum(responsibility, axis=0)/N\n",
    "    \n",
    "    print(\"\"\"\n",
    "    mu_new: {}\n",
    "    sigma_new: {}\n",
    "    pi_new: {}\n",
    "    \n",
    "    \"\"\".format(\n",
    "        mu_new,sigma_new,pi_new))\n",
    "    \n",
    "    # Log likelihood\n",
    "    prob = univariate_normal(data, mean=mu_new, variance=sigma_new)\n",
    "    loglik = np.sum(np.log(np.sum(pi_new*prob, axis=1)))\n",
    "\n",
    "    loglik_all.append(loglik)\n",
    "    \n",
    "    # Assign updated parameters\n",
    "    mu = mu_new\n",
    "    sigma = sigma_new\n",
    "    pi = pi_new\n",
    "    \n",
    "    # Plot Gaussians\n",
    "    plot_gmm(data, mu, sigma, K)\n",
    "\n",
    "    iteration+=1\n",
    "    \n",
    "    if loglik_all[-1] - loglik_all[-2] < 0.0001:\n",
    "        break;"
   ]
  },
  {
   "cell_type": "code",
   "execution_count": 108,
   "metadata": {},
   "outputs": [
    {
     "data": {
      "text/plain": [
       "[-58.991734068620225, -42.16078498760664, -42.160778720087045]"
      ]
     },
     "execution_count": 108,
     "metadata": {},
     "output_type": "execute_result"
    }
   ],
   "source": [
    "loglik_all"
   ]
  },
  {
   "cell_type": "markdown",
   "metadata": {},
   "source": [
    "# Test"
   ]
  },
  {
   "cell_type": "code",
   "execution_count": 82,
   "metadata": {},
   "outputs": [
    {
     "data": {
      "image/png": "[encoded data removed]",
      "text/plain": [
       "<Figure size 504x360 with 1 Axes>"
      ]
     },
     "metadata": {},
     "output_type": "display_data"
    }
   ],
   "source": [
    "K = 2\n",
    "N = len(data)\n",
    "mu = np.random.permutation(data)[:K].ravel()\n",
    "sigma = np.array([np.var(data)] * K)\n",
    "pi = np.array([1/K] * K)\n",
    "\n",
    "plot_gmm(data, mu, sigma, K)"
   ]
  },
  {
   "cell_type": "code",
   "execution_count": 83,
   "metadata": {},
   "outputs": [
    {
     "data": {
      "text/plain": [
       "array([0.5, 0.5])"
      ]
     },
     "execution_count": 83,
     "metadata": {},
     "output_type": "execute_result"
    }
   ],
   "source": [
    "np.array([1/K] * K)"
   ]
  },
  {
   "cell_type": "code",
   "execution_count": null,
   "metadata": {},
   "outputs": [],
   "source": [
    "# Initialize\n",
    "\n",
    "\n",
    "K = 2\n",
    "N = len(data)\n",
    "mu = np.random.permutation(data)[:K].ravel()\n",
    "sigma = np.array([np.var(data)] * K)\n",
    "pi = np.array([1/K] * K)\n",
    "\n",
    "plot_gmm(data, mu, sigma, K)\n",
    "\n",
    "\n",
    "# Log likelihood\n",
    "prob = univariate_normal(data, mean=mu, variance=sigma)\n",
    "loglik = np.sum(np.log(np.sum(pi*prob, axis=1)))"
   ]
  },
  {
   "cell_type": "markdown",
   "metadata": {},
   "source": [
    "# Reference\n",
    "\n",
    "\n",
    "- http://statweb.stanford.edu/~tibs/sta306bfiles/mixtures-em.pdf\n",
    "\n",
    "- http://statweb.stanford.edu/~tibs/stat315a/LECTURES/em.pdf"
   ]
  },
  {
   "cell_type": "code",
   "execution_count": null,
   "metadata": {},
   "outputs": [],
   "source": []
  }
 ],
 "metadata": {
  "kernelspec": {
   "display_name": "Python 3",
   "language": "python",
   "name": "python3"
  },
  "language_info": {
   "codemirror_mode": {
    "name": "ipython",
    "version": 3
   },
   "file_extension": ".py",
   "mimetype": "text/x-python",
   "name": "python",
   "nbconvert_exporter": "python",
   "pygments_lexer": "ipython3",
   "version": "3.6.6"
  },
  "varInspector": {
   "cols": {
    "lenName": 16,
    "lenType": 16,
    "lenVar": 40
   },
   "kernels_config": {
    "python": {
     "delete_cmd_postfix": "",
     "delete_cmd_prefix": "del ",
     "library": "var_list.py",
     "varRefreshCmd": "print(var_dic_list())"
    },
    "r": {
     "delete_cmd_postfix": ") ",
     "delete_cmd_prefix": "rm(",
     "library": "var_list.r",
     "varRefreshCmd": "cat(var_dic_list()) "
    }
   },
   "types_to_exclude": [
    "module",
    "function",
    "builtin_function_or_method",
    "instance",
    "_Feature"
   ],
   "window_display": false
  }
 },
 "nbformat": 4,
 "nbformat_minor": 2
}
